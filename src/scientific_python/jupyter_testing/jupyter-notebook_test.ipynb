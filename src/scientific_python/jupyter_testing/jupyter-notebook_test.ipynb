{
 "cells": [
  {
   "cell_type": "code",
   "execution_count": null,
   "id": "0c75e68c-b463-4388-96a1-6c738cb51905",
   "metadata": {},
   "outputs": [],
   "source": [
    "%matplotlib ipympl"
   ]
  },
  {
   "cell_type": "code",
   "execution_count": null,
   "id": "a1b020f5-b85e-48fe-bd3e-920e85a622eb",
   "metadata": {},
   "outputs": [],
   "source": [
    "import matplotlib.pyplot as plt\n",
    "import numpy as np\n",
    "import ipywidgets as widgets"
   ]
  },
  {
   "cell_type": "code",
   "execution_count": null,
   "id": "ddde6dc6-8f78-4fd3-964a-45367f0e9745",
   "metadata": {},
   "outputs": [],
   "source": [
    "plt.figure()\n",
    "plt.plot()"
   ]
  },
  {
   "cell_type": "code",
   "execution_count": null,
   "id": "f9c4cfe7-a14e-44bd-8f6d-90c5685910f6",
   "metadata": {},
   "outputs": [],
   "source": [
    "a = widgets.IntSlider(description=\"a\")\n",
    "b = widgets.IntSlider(description=\"b\")\n",
    "c = widgets.IntSlider(description=\"c\")\n",
    "\n",
    "\n",
    "def f(a, b, c):\n",
    "    print(\"{}*{}*{}={}\".format(a, b, c, a * b * c))\n",
    "\n",
    "\n",
    "out = widgets.interactive_output(f, {\"a\": a, \"b\": b, \"c\": c})\n",
    "\n",
    "widgets.HBox([widgets.VBox([a, b, c]), out])"
   ]
  },
  {
   "cell_type": "code",
   "execution_count": null,
   "id": "9e7b3a1d-6109-4ac6-9000-92d5f9d65a71",
   "metadata": {},
   "outputs": [],
   "source": []
  },
  {
   "cell_type": "code",
   "execution_count": null,
   "id": "76c04a53-6a70-4c91-ac3a-59e7c89a4872",
   "metadata": {},
   "outputs": [],
   "source": []
  }
 ],
 "metadata": {
  "kernelspec": {
   "display_name": "Python 3 (ipykernel)",
   "language": "python",
   "name": "python3"
  },
  "language_info": {
   "codemirror_mode": {
    "name": "ipython",
    "version": 3
   },
   "file_extension": ".py",
   "mimetype": "text/x-python",
   "name": "python",
   "nbconvert_exporter": "python",
   "pygments_lexer": "ipython3",
   "version": "3.12.11"
  }
 },
 "nbformat": 4,
 "nbformat_minor": 5
}
