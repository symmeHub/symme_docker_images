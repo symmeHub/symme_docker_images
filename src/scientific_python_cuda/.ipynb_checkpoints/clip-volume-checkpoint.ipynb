{
 "cells": [
  {
   "cell_type": "code",
   "execution_count": null,
   "metadata": {
    "jupyter": {
     "outputs_hidden": false
    },
    "tags": []
   },
   "outputs": [],
   "source": [
    "%matplotlib inline"
   ]
  },
  {
   "cell_type": "markdown",
   "metadata": {},
   "source": [
    "Clip Volume Widget {#clip_volume_widget_example}\n",
    "==================\n",
    "\n",
    "If you have a structured dataset like a\n",
    "`pyvista.ImageData`{.interpreted-text role=\"class\"} or\n",
    "`pyvista.RectilinearGrid`{.interpreted-text role=\"class\"}, you can clip\n",
    "it using the `pyvista.Plotter.add_volume_clip_plane`{.interpreted-text\n",
    "role=\"func\"} widget to better see the internal structure of the dataset.\n",
    "\n",
    "![image](../../images/gifs/volume-clip-plane-widget.gif)\n"
   ]
  },
  {
   "cell_type": "code",
   "execution_count": null,
   "metadata": {
    "jupyter": {
     "outputs_hidden": false
    }
   },
   "outputs": [],
   "source": []
  },
  {
   "cell_type": "markdown",
   "metadata": {},
   "source": [
    "Create the Dataset\n",
    "==================\n",
    "\n",
    "Create a dense `pyvista.ImageData`{.interpreted-text role=\"class\"} with\n",
    "dimensions `(200, 200, 200)` and set the active scalars to distance from\n",
    "the `center\n",
    "<pyvista.DataSet.center>`{.interpreted-text role=\"attr\"} of the grid.\n"
   ]
  },
  {
   "cell_type": "code",
   "execution_count": null,
   "metadata": {
    "jupyter": {
     "outputs_hidden": false
    },
    "tags": []
   },
   "outputs": [],
   "source": [
    "import numpy as np\n",
    "\n",
    "import pyvista as pv\n",
    "\n",
    "pv.set_jupyter_backend(\"trame\")\n",
    "\n",
    "grid = pv.ImageData(dimensions=(200, 200, 200))\n",
    "grid[\"scalars\"] = np.linalg.norm(grid.center - grid.points, axis=1)\n",
    "grid"
   ]
  },
  {
   "cell_type": "markdown",
   "metadata": {},
   "source": [
    "Generate the Opacity Array\n",
    "==========================\n",
    "\n",
    "Create a banded opacity array such that our dataset shows \\\"rings\\\" at\n",
    "certain values. Have this increase such that higher values (values\n",
    "farther away from the center) are more opaque.\n"
   ]
  },
  {
   "cell_type": "code",
   "execution_count": null,
   "metadata": {
    "jupyter": {
     "outputs_hidden": false
    },
    "tags": []
   },
   "outputs": [],
   "source": [
    "opacity = np.zeros(100)\n",
    "opacity[::10] = np.geomspace(0.01, 0.75, 10)"
   ]
  },
  {
   "cell_type": "markdown",
   "metadata": {},
   "source": [
    "Plot a Single Clip Plane Dataset\n",
    "================================\n",
    "\n",
    "Plot the volume with a single clip plane.\n",
    "\n",
    "Reverse the opacity array such that portions closer to the center are\n",
    "more opaque.\n"
   ]
  },
  {
   "cell_type": "code",
   "execution_count": null,
   "metadata": {
    "jupyter": {
     "outputs_hidden": false
    },
    "tags": []
   },
   "outputs": [],
   "source": [
    "pl = pv.Plotter()\n",
    "pl.add_volume_clip_plane(grid, normal=\"-x\", opacity=opacity[::-1], cmap=\"magma\")\n",
    "pl.show()"
   ]
  },
  {
   "cell_type": "markdown",
   "metadata": {},
   "source": [
    "Plot Multiple Clip Planes\n",
    "=========================\n",
    "\n",
    "Plot the dataset using the\n",
    "`pyvista.Plotter.add_volume_clip_plane`{.interpreted-text role=\"func\"}\n",
    "with the output from `pyvista.Plotter.add_volume`{.interpreted-text\n",
    "role=\"func\"} Enable constant interaction by setting the\n",
    "`interaction_event` to `'always'`.\n",
    "\n",
    "Disable the arrows to make the plot a bit clearer and flip the opacity\n",
    "array.\n"
   ]
  },
  {
   "cell_type": "code",
   "execution_count": null,
   "metadata": {
    "jupyter": {
     "outputs_hidden": false
    }
   },
   "outputs": [],
   "source": [
    "pl = pv.Plotter()\n",
    "vol = pl.add_volume(grid, opacity=opacity)\n",
    "vol.prop.interpolation_type = \"linear\"\n",
    "pl.add_volume_clip_plane(\n",
    "    vol,\n",
    "    normal=\"-x\",\n",
    "    interaction_event=\"always\",\n",
    "    normal_rotation=False,\n",
    ")\n",
    "pl.add_volume_clip_plane(\n",
    "    vol,\n",
    "    normal=\"-y\",\n",
    "    interaction_event=\"always\",\n",
    "    normal_rotation=False,\n",
    ")\n",
    "pl.show()"
   ]
  }
 ],
 "metadata": {
  "kernelspec": {
   "display_name": "Python 3 (ipykernel)",
   "language": "python",
   "name": "python3"
  },
  "language_info": {
   "codemirror_mode": {
    "name": "ipython",
    "version": 3
   },
   "file_extension": ".py",
   "mimetype": "text/x-python",
   "name": "python",
   "nbconvert_exporter": "python",
   "pygments_lexer": "ipython3",
   "version": "3.10.13"
  }
 },
 "nbformat": 4,
 "nbformat_minor": 4
}
