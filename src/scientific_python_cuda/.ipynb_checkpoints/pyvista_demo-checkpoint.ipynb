{
 "cells": [
  {
   "cell_type": "code",
   "execution_count": null,
   "id": "f9f7a941-b58e-46f8-ab93-3c7ba243e343",
   "metadata": {
    "tags": []
   },
   "outputs": [],
   "source": [
    "import pyvista as pv\n",
    "\n",
    "pv.set_jupyter_backend(\"trame\")\n",
    "\n",
    "sphere = pv.Sphere()\n",
    "\n",
    "plotter = pv.Plotter(notebook=True)\n",
    "plotter.add_mesh(sphere)\n",
    "plotter.show()"
   ]
  },
  {
   "cell_type": "code",
   "execution_count": null,
   "id": "9446f53f-45b6-4ae7-bbba-4cfc0a385e5c",
   "metadata": {
    "tags": []
   },
   "outputs": [],
   "source": [
    "mesh = pv.Wavelet()\n",
    "cntr = mesh.contour()\n",
    "slices = mesh.slice_orthogonal()\n",
    "thresh = mesh.threshold(200)\n",
    "\n",
    "p = pv.Plotter(shape=\"1|3\")\n",
    "\n",
    "p.subplot(1)\n",
    "p.add_mesh(cntr)\n",
    "\n",
    "p.subplot(2)\n",
    "p.add_mesh(slices)\n",
    "\n",
    "p.subplot(3)\n",
    "p.add_mesh(thresh)\n",
    "\n",
    "p.subplot(0)\n",
    "p.add_mesh(mesh)\n",
    "\n",
    "p.link_views()\n",
    "p.view_isometric()\n",
    "p.show()"
   ]
  },
  {
   "cell_type": "code",
   "execution_count": null,
   "id": "28df2679-2b63-4b44-b10d-95ba1da2d79b",
   "metadata": {
    "tags": []
   },
   "outputs": [],
   "source": [
    "colors = [\n",
    "    [\"ff0000\", \"28e5da\", \"0000ff\"],\n",
    "    [\"ffff00\", \"c8bebe\", \"f79292\"],\n",
    "    [\"fffff0\", \"f18c1d\", \"23dcaa\"],\n",
    "    [\"d785ec\", \"9d5b13\", \"e4e0b1\"],\n",
    "    [\"894509\", \"af45f5\", \"fff000\"],\n",
    "]\n",
    "\n",
    "\n",
    "class SetVisibilityCallback:\n",
    "    \"\"\"Helper callback to keep a reference to the actor being modified.\"\"\"\n",
    "\n",
    "    def __init__(self, actor):\n",
    "        self.actor = actor\n",
    "\n",
    "    def __call__(self, state):\n",
    "        self.actor.SetVisibility(state)"
   ]
  },
  {
   "cell_type": "code",
   "execution_count": null,
   "id": "29968f0f-af37-48c6-9889-b0554ac2aab8",
   "metadata": {
    "tags": []
   },
   "outputs": [],
   "source": [
    "# Widget size\n",
    "size = 50\n",
    "\n",
    "p = pv.Plotter()\n",
    "\n",
    "Startpos = 12\n",
    "for i, lst in enumerate(colors):\n",
    "    for j, color in enumerate(lst):\n",
    "        actor = p.add_mesh(pv.Sphere(center=(i, j, 0)), color=color)\n",
    "        # Make a separate callback for each widget\n",
    "        callback = SetVisibilityCallback(actor)\n",
    "        p.add_checkbox_button_widget(\n",
    "            callback,\n",
    "            value=True,\n",
    "            position=(5.0, Startpos),\n",
    "            size=size,\n",
    "            border_size=1,\n",
    "            color_on=color,\n",
    "            color_off=\"grey\",\n",
    "            background_color=\"grey\",\n",
    "        )\n",
    "        Startpos = Startpos + size + (size // 10)\n",
    "\n",
    "p.show()"
   ]
  },
  {
   "cell_type": "code",
   "execution_count": null,
   "id": "46b479a2-b3c5-4cdd-9a16-85a7c9cdcf4a",
   "metadata": {},
   "outputs": [],
   "source": []
  }
 ],
 "metadata": {
  "kernelspec": {
   "display_name": "Python 3 (ipykernel)",
   "language": "python",
   "name": "python3"
  },
  "language_info": {
   "codemirror_mode": {
    "name": "ipython",
    "version": 3
   },
   "file_extension": ".py",
   "mimetype": "text/x-python",
   "name": "python",
   "nbconvert_exporter": "python",
   "pygments_lexer": "ipython3",
   "version": "3.10.13"
  }
 },
 "nbformat": 4,
 "nbformat_minor": 5
}
